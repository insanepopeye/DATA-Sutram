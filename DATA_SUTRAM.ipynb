{
  "nbformat": 4,
  "nbformat_minor": 0,
  "metadata": {
    "colab": {
      "name": "DATA SUTRAM",
      "version": "0.3.2",
      "provenance": [],
      "collapsed_sections": []
    },
    "kernelspec": {
      "name": "python3",
      "display_name": "Python 3"
    }
  },
  "cells": [
    {
      "cell_type": "code",
      "metadata": {
        "id": "89a0POc3K700",
        "colab_type": "code",
        "colab": {
          "base_uri": "https://localhost:8080/",
          "height": 665
        },
        "outputId": "c848af87-c08a-4b50-ed79-e6f3511f5125"
      },
      "source": [
        "pip install folium geopandas"
      ],
      "execution_count": 5,
      "outputs": [
        {
          "output_type": "stream",
          "text": [
            "Requirement already satisfied: folium in /usr/local/lib/python3.6/dist-packages (0.8.3)\n",
            "Collecting geopandas\n",
            "\u001b[?25l  Downloading https://files.pythonhosted.org/packages/21/80/da2a33c9201cd4ce693f4aa6189efc9ef1a48bec1c3b02c3ce9908b07fec/geopandas-0.5.1-py2.py3-none-any.whl (893kB)\n",
            "\u001b[K     |████████████████████████████████| 901kB 2.8MB/s \n",
            "\u001b[?25hRequirement already satisfied: numpy in /usr/local/lib/python3.6/dist-packages (from folium) (1.16.4)\n",
            "Requirement already satisfied: requests in /usr/local/lib/python3.6/dist-packages (from folium) (2.21.0)\n",
            "Requirement already satisfied: branca>=0.3.0 in /usr/local/lib/python3.6/dist-packages (from folium) (0.3.1)\n",
            "Requirement already satisfied: jinja2 in /usr/local/lib/python3.6/dist-packages (from folium) (2.10.1)\n",
            "Requirement already satisfied: six in /usr/local/lib/python3.6/dist-packages (from folium) (1.12.0)\n",
            "Collecting pyproj (from geopandas)\n",
            "\u001b[?25l  Downloading https://files.pythonhosted.org/packages/16/59/43869adef45ce4f1cf7d5c3aef1ea5d65d449050abdda5de7a2465c5729d/pyproj-2.2.1-cp36-cp36m-manylinux1_x86_64.whl (11.2MB)\n",
            "\u001b[K     |████████████████████████████████| 11.2MB 47.3MB/s \n",
            "\u001b[?25hRequirement already satisfied: pandas in /usr/local/lib/python3.6/dist-packages (from geopandas) (0.24.2)\n",
            "Collecting fiona (from geopandas)\n",
            "\u001b[?25l  Downloading https://files.pythonhosted.org/packages/89/4a/193cd6a75e51062c85f4e1cd6f312b3bbda6e26ba7510f152ef5016f0b16/Fiona-1.8.6-cp36-cp36m-manylinux1_x86_64.whl (17.9MB)\n",
            "\u001b[K     |████████████████████████████████| 17.9MB 32.4MB/s \n",
            "\u001b[?25hRequirement already satisfied: shapely in /usr/local/lib/python3.6/dist-packages (from geopandas) (1.6.4.post2)\n",
            "Requirement already satisfied: certifi>=2017.4.17 in /usr/local/lib/python3.6/dist-packages (from requests->folium) (2019.6.16)\n",
            "Requirement already satisfied: urllib3<1.25,>=1.21.1 in /usr/local/lib/python3.6/dist-packages (from requests->folium) (1.24.3)\n",
            "Requirement already satisfied: idna<2.9,>=2.5 in /usr/local/lib/python3.6/dist-packages (from requests->folium) (2.8)\n",
            "Requirement already satisfied: chardet<3.1.0,>=3.0.2 in /usr/local/lib/python3.6/dist-packages (from requests->folium) (3.0.4)\n",
            "Requirement already satisfied: MarkupSafe>=0.23 in /usr/local/lib/python3.6/dist-packages (from jinja2->folium) (1.1.1)\n",
            "Requirement already satisfied: python-dateutil>=2.5.0 in /usr/local/lib/python3.6/dist-packages (from pandas->geopandas) (2.5.3)\n",
            "Requirement already satisfied: pytz>=2011k in /usr/local/lib/python3.6/dist-packages (from pandas->geopandas) (2018.9)\n",
            "Collecting cligj>=0.5 (from fiona->geopandas)\n",
            "  Downloading https://files.pythonhosted.org/packages/e4/be/30a58b4b0733850280d01f8bd132591b4668ed5c7046761098d665ac2174/cligj-0.5.0-py3-none-any.whl\n",
            "Collecting click-plugins>=1.0 (from fiona->geopandas)\n",
            "  Downloading https://files.pythonhosted.org/packages/e9/da/824b92d9942f4e472702488857914bdd50f73021efea15b4cad9aca8ecef/click_plugins-1.1.1-py2.py3-none-any.whl\n",
            "Requirement already satisfied: attrs>=17 in /usr/local/lib/python3.6/dist-packages (from fiona->geopandas) (19.1.0)\n",
            "Requirement already satisfied: click<8,>=4.0 in /usr/local/lib/python3.6/dist-packages (from fiona->geopandas) (7.0)\n",
            "Collecting munch (from fiona->geopandas)\n",
            "  Downloading https://files.pythonhosted.org/packages/68/f4/260ec98ea840757a0da09e0ed8135333d59b8dfebe9752a365b04857660a/munch-2.3.2.tar.gz\n",
            "Building wheels for collected packages: munch\n",
            "  Building wheel for munch (setup.py) ... \u001b[?25l\u001b[?25hdone\n",
            "  Stored in directory: /root/.cache/pip/wheels/db/bf/bc/06a3e1bfe0ab27d2e720ceb3cff3159398d92644c0cec2c125\n",
            "Successfully built munch\n",
            "Installing collected packages: pyproj, cligj, click-plugins, munch, fiona, geopandas\n",
            "Successfully installed click-plugins-1.1.1 cligj-0.5.0 fiona-1.8.6 geopandas-0.5.1 munch-2.3.2 pyproj-2.2.1\n"
          ],
          "name": "stdout"
        }
      ]
    },
    {
      "cell_type": "code",
      "metadata": {
        "id": "tsFd7M4jMBuJ",
        "colab_type": "code",
        "colab": {
          "base_uri": "https://localhost:8080/",
          "height": 204
        },
        "outputId": "5b40798a-02f8-4197-a892-91e08d74e35c"
      },
      "source": [
        "pip install folium"
      ],
      "execution_count": 6,
      "outputs": [
        {
          "output_type": "stream",
          "text": [
            "Requirement already satisfied: folium in /usr/local/lib/python3.6/dist-packages (0.8.3)\n",
            "Requirement already satisfied: numpy in /usr/local/lib/python3.6/dist-packages (from folium) (1.16.4)\n",
            "Requirement already satisfied: branca>=0.3.0 in /usr/local/lib/python3.6/dist-packages (from folium) (0.3.1)\n",
            "Requirement already satisfied: requests in /usr/local/lib/python3.6/dist-packages (from folium) (2.21.0)\n",
            "Requirement already satisfied: six in /usr/local/lib/python3.6/dist-packages (from folium) (1.12.0)\n",
            "Requirement already satisfied: jinja2 in /usr/local/lib/python3.6/dist-packages (from folium) (2.10.1)\n",
            "Requirement already satisfied: idna<2.9,>=2.5 in /usr/local/lib/python3.6/dist-packages (from requests->folium) (2.8)\n",
            "Requirement already satisfied: certifi>=2017.4.17 in /usr/local/lib/python3.6/dist-packages (from requests->folium) (2019.6.16)\n",
            "Requirement already satisfied: chardet<3.1.0,>=3.0.2 in /usr/local/lib/python3.6/dist-packages (from requests->folium) (3.0.4)\n",
            "Requirement already satisfied: urllib3<1.25,>=1.21.1 in /usr/local/lib/python3.6/dist-packages (from requests->folium) (1.24.3)\n",
            "Requirement already satisfied: MarkupSafe>=0.23 in /usr/local/lib/python3.6/dist-packages (from jinja2->folium) (1.1.1)\n"
          ],
          "name": "stdout"
        }
      ]
    },
    {
      "cell_type": "code",
      "metadata": {
        "id": "ce1RT7e7Mb8h",
        "colab_type": "code",
        "colab": {
          "resources": {
            "http://localhost:8080/nbextensions/google.colab/files.js": {
              "data": "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",
              "ok": true,
              "headers": [
                [
                  "content-type",
                  "application/javascript"
                ]
              ],
              "status": 200,
              "status_text": ""
            }
          },
          "base_uri": "https://localhost:8080/",
          "height": 73
        },
        "outputId": "9c980d16-423f-4d0e-9531-35a0ab8d3155"
      },
      "source": [
        "from google.colab import files\n",
        "uploaded = files.upload()"
      ],
      "execution_count": 7,
      "outputs": [
        {
          "output_type": "display_data",
          "data": {
            "text/html": [
              "\n",
              "     <input type=\"file\" id=\"files-7536f594-13c8-4ad0-91bc-4db0e3d720bf\" name=\"files[]\" multiple disabled />\n",
              "     <output id=\"result-7536f594-13c8-4ad0-91bc-4db0e3d720bf\">\n",
              "      Upload widget is only available when the cell has been executed in the\n",
              "      current browser session. Please rerun this cell to enable.\n",
              "      </output>\n",
              "      <script src=\"/nbextensions/google.colab/files.js\"></script> "
            ],
            "text/plain": [
              "<IPython.core.display.HTML object>"
            ]
          },
          "metadata": {
            "tags": []
          }
        },
        {
          "output_type": "stream",
          "text": [
            "Saving cb_2015_us_cd114_20m.zip to cb_2015_us_cd114_20m.zip\n"
          ],
          "name": "stdout"
        }
      ]
    },
    {
      "cell_type": "code",
      "metadata": {
        "id": "BVWBdI76NxHY",
        "colab_type": "code",
        "colab": {
          "resources": {
            "http://localhost:8080/nbextensions/google.colab/files.js": {
              "data": "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",
              "ok": true,
              "headers": [
                [
                  "content-type",
                  "application/javascript"
                ]
              ],
              "status": 200,
              "status_text": ""
            }
          },
          "base_uri": "https://localhost:8080/",
          "height": 73
        },
        "outputId": "5e43c992-413a-465a-ce01-ce6c6c18a1a0"
      },
      "source": [
        "from google.colab import files\n",
        "uploaded = files.upload()"
      ],
      "execution_count": 10,
      "outputs": [
        {
          "output_type": "display_data",
          "data": {
            "text/html": [
              "\n",
              "     <input type=\"file\" id=\"files-f49b8ad0-d224-4a0d-8805-fb01ea6d304b\" name=\"files[]\" multiple disabled />\n",
              "     <output id=\"result-f49b8ad0-d224-4a0d-8805-fb01ea6d304b\">\n",
              "      Upload widget is only available when the cell has been executed in the\n",
              "      current browser session. Please rerun this cell to enable.\n",
              "      </output>\n",
              "      <script src=\"/nbextensions/google.colab/files.js\"></script> "
            ],
            "text/plain": [
              "<IPython.core.display.HTML object>"
            ]
          },
          "metadata": {
            "tags": []
          }
        },
        {
          "output_type": "stream",
          "text": [
            "Saving campaign_contributions_for_map.tsv to campaign_contributions_for_map.tsv\n"
          ],
          "name": "stdout"
        }
      ]
    },
    {
      "cell_type": "code",
      "metadata": {
        "id": "nlXDiutfQEiZ",
        "colab_type": "code",
        "colab": {
          "base_uri": "https://localhost:8080/",
          "height": 197
        },
        "outputId": "43efd243-c1b9-423f-a1ef-8a4aa0791f60"
      },
      "source": [
        "import pandas as pd \n",
        "\n",
        "for_map = pd.read_csv('campaign_contributions_for_map.tsv', sep='\\t')\n",
        "\n",
        "for_map.sort_values('Amount', ascending=False).head()"
      ],
      "execution_count": 11,
      "outputs": [
        {
          "output_type": "execute_result",
          "data": {
            "text/html": [
              "<div>\n",
              "<style scoped>\n",
              "    .dataframe tbody tr th:only-of-type {\n",
              "        vertical-align: middle;\n",
              "    }\n",
              "\n",
              "    .dataframe tbody tr th {\n",
              "        vertical-align: top;\n",
              "    }\n",
              "\n",
              "    .dataframe thead th {\n",
              "        text-align: right;\n",
              "    }\n",
              "</style>\n",
              "<table border=\"1\" class=\"dataframe\">\n",
              "  <thead>\n",
              "    <tr style=\"text-align: right;\">\n",
              "      <th></th>\n",
              "      <th>City</th>\n",
              "      <th>State</th>\n",
              "      <th>lat</th>\n",
              "      <th>lon</th>\n",
              "      <th>Amount</th>\n",
              "    </tr>\n",
              "  </thead>\n",
              "  <tbody>\n",
              "    <tr>\n",
              "      <th>509</th>\n",
              "      <td>WASHINGTON</td>\n",
              "      <td>DC</td>\n",
              "      <td>38.907192</td>\n",
              "      <td>-77.036871</td>\n",
              "      <td>1918808.40</td>\n",
              "    </tr>\n",
              "    <tr>\n",
              "      <th>412</th>\n",
              "      <td>ROCHESTER</td>\n",
              "      <td>NY</td>\n",
              "      <td>43.160000</td>\n",
              "      <td>-77.610000</td>\n",
              "      <td>195067.39</td>\n",
              "    </tr>\n",
              "    <tr>\n",
              "      <th>6</th>\n",
              "      <td>ALEXANDRIA</td>\n",
              "      <td>VA</td>\n",
              "      <td>38.804835</td>\n",
              "      <td>-77.046921</td>\n",
              "      <td>185438.32</td>\n",
              "    </tr>\n",
              "    <tr>\n",
              "      <th>25</th>\n",
              "      <td>ARLINGTON</td>\n",
              "      <td>VA</td>\n",
              "      <td>38.879970</td>\n",
              "      <td>-77.106770</td>\n",
              "      <td>138900.00</td>\n",
              "    </tr>\n",
              "    <tr>\n",
              "      <th>346</th>\n",
              "      <td>NEW YORK</td>\n",
              "      <td>NY</td>\n",
              "      <td>40.710000</td>\n",
              "      <td>-73.990000</td>\n",
              "      <td>130620.00</td>\n",
              "    </tr>\n",
              "  </tbody>\n",
              "</table>\n",
              "</div>"
            ],
            "text/plain": [
              "           City State        lat        lon      Amount\n",
              "509  WASHINGTON    DC  38.907192 -77.036871  1918808.40\n",
              "412   ROCHESTER    NY  43.160000 -77.610000   195067.39\n",
              "6    ALEXANDRIA    VA  38.804835 -77.046921   185438.32\n",
              "25    ARLINGTON    VA  38.879970 -77.106770   138900.00\n",
              "346    NEW YORK    NY  40.710000 -73.990000   130620.00"
            ]
          },
          "metadata": {
            "tags": []
          },
          "execution_count": 11
        }
      ]
    },
    {
      "cell_type": "code",
      "metadata": {
        "id": "E0Unq3bsQHcl",
        "colab_type": "code",
        "colab": {
          "base_uri": "https://localhost:8080/",
          "height": 187
        },
        "outputId": "11b67c3b-6636-48cd-f824-63a7d7f1c46e"
      },
      "source": [
        "for_map.info()"
      ],
      "execution_count": 12,
      "outputs": [
        {
          "output_type": "stream",
          "text": [
            "<class 'pandas.core.frame.DataFrame'>\n",
            "RangeIndex: 549 entries, 0 to 548\n",
            "Data columns (total 5 columns):\n",
            "City      549 non-null object\n",
            "State     549 non-null object\n",
            "lat       549 non-null float64\n",
            "lon       549 non-null float64\n",
            "Amount    549 non-null float64\n",
            "dtypes: float64(3), object(2)\n",
            "memory usage: 21.5+ KB\n"
          ],
          "name": "stdout"
        }
      ]
    },
    {
      "cell_type": "code",
      "metadata": {
        "id": "qK9pqFGTQoUF",
        "colab_type": "code",
        "colab": {}
      },
      "source": [
        "import geopandas as gpd\n",
        "import folium\n",
        "\n",
        "congr_districts = gpd.read_file('zip://'+'cb_2015_us_cd114_20m.zip')\n",
        "\n",
        "congr_districts.crs = {'datum': 'NAD83', 'ellps': 'GRS80', 'proj':'longlat', 'no_defs':True}\n",
        "\n",
        "district23 = congr_districts[ congr_districts.GEOID == '3623' ]  # 36 = NY, 23 = District"
      ],
      "execution_count": 0,
      "outputs": []
    },
    {
      "cell_type": "code",
      "metadata": {
        "id": "y28mvaxXQ0rb",
        "colab_type": "code",
        "colab": {
          "base_uri": "https://localhost:8080/",
          "height": 34
        },
        "outputId": "b7c76f8c-6ee1-40c6-dbbd-beaac0c95e80"
      },
      "source": [
        "distric_map = folium.Map(location=[42.5, -76], zoom_start=7, tiles='cartodbpositron' )\n",
        "print('default map crs: ',distric_map.crs)"
      ],
      "execution_count": 16,
      "outputs": [
        {
          "output_type": "stream",
          "text": [
            "default map crs:  EPSG3857\n"
          ],
          "name": "stdout"
        }
      ]
    },
    {
      "cell_type": "code",
      "metadata": {
        "id": "uhIOGBNIQ-cq",
        "colab_type": "code",
        "colab": {}
      },
      "source": [
        "# convert it to the projection of our folium openstreetmap\n",
        "district23 = district23.to_crs({'init':'epsg:3857'})"
      ],
      "execution_count": 0,
      "outputs": []
    },
    {
      "cell_type": "code",
      "metadata": {
        "id": "uJdeUFF8ROXO",
        "colab_type": "code",
        "colab": {
          "base_uri": "https://localhost:8080/",
          "height": 1000
        },
        "outputId": "1c164dae-2fa7-4ccb-d31c-3c5c8cdd5f0a"
      },
      "source": [
        "folium.GeoJson(district23).add_to(distric_map)\n",
        "distric_map"
      ],
      "execution_count": 20,
      "outputs": [
        {
          "output_type": "execute_result",
          "data": {
            "text/html": [
              "<div style=\"width:100%;\"><div style=\"position:relative;width:100%;height:0;padding-bottom:60%;\"><iframe src=\"data:text/html;charset=utf-8;base64,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\" style=\"position:absolute;width:100%;height:100%;left:0;top:0;border:none !important;\" allowfullscreen webkitallowfullscreen mozallowfullscreen></iframe></div></div>"
            ],
            "text/plain": [
              "<folium.folium.Map at 0x7fb6bac13908>"
            ]
          },
          "metadata": {
            "tags": []
          },
          "execution_count": 20
        }
      ]
    },
    {
      "cell_type": "code",
      "metadata": {
        "id": "k_piYN8URq5H",
        "colab_type": "code",
        "colab": {
          "base_uri": "https://localhost:8080/",
          "height": 1000
        },
        "outputId": "02286955-7174-41a8-dfa2-0ae3a5cb6424"
      },
      "source": [
        "import folium\n",
        "from folium.plugins import HeatMap\n",
        "\n",
        "max_amount = float(for_map['Amount'].max())\n",
        "\n",
        "hmap = folium.Map(location=[41.0, -75.5], zoom_start=7, )\n",
        "\n",
        "hm_wide = HeatMap( list(zip(for_map.lat.values, for_map.lon.values, for_map.Amount.values)), \n",
        "                   min_opacity=0.2,\n",
        "                   max_val=max_amount,\n",
        "                   radius=17, blur=15, \n",
        "                   max_zoom=1, \n",
        "                 )\n",
        "\n",
        "folium.GeoJson(district23).add_to(hmap)\n",
        "hmap.add_child(hm_wide)"
      ],
      "execution_count": 21,
      "outputs": [
        {
          "output_type": "execute_result",
          "data": {
            "text/html": [
              "<div style=\"width:100%;\"><div style=\"position:relative;width:100%;height:0;padding-bottom:60%;\"><iframe src=\"data:text/html;charset=utf-8;base64,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\" style=\"position:absolute;width:100%;height:100%;left:0;top:0;border:none !important;\" allowfullscreen webkitallowfullscreen mozallowfullscreen></iframe></div></div>"
            ],
            "text/plain": [
              "<folium.folium.Map at 0x7fb6ba9973c8>"
            ]
          },
          "metadata": {
            "tags": []
          },
          "execution_count": 21
        }
      ]
    }
  ]
}